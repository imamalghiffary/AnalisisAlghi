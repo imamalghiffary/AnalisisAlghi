{
 "cells": [
  {
   "cell_type": "markdown",
   "metadata": {},
   "source": [
    "# Analisis Alghi\n",
    "\n",
    "Mari kita coba dengan terlebih dahulu membuat DataFrame menggunakan metode `read_sql_query ()` yang telah kita kenal. Kami ingin mengembangkan laporan visualisasi penjualan sederhana dari 5 pasar utama utama kami (kolom `Negara` di` pelanggan`) yang diberi peringkat oleh Penjualan (kolom `Total` di` faktur`).\n",
    "\n",
    "Kami juga ingin mengidentifikasi 5 pelanggan teratas kami dengan nama (`FirstName`,` LastName`) dalam laporan.\n",
    "\n",
    "Terakhir tetapi tidak kalah pentingnya, kami ingin laporan menyertakan analisis harian tentang kinerja penjualan, dan untuk itu kami akan memerlukan kolom `InvoiceDate`."
   ]
  },
  {
   "cell_type": "markdown",
   "metadata": {},
   "source": [
    "1. Manakah dari pelanggan berikut ini di antara 5 pelanggan teratas yang diberi peringkat berdasarkan total masing-masing (`Total`)? Pilih semua yang berlaku.\n",
    "    - [ ] Victor Stevens\n",
    "    - [ ] Hugh O'Reilly\n",
    "    - [ ] Puja Srivastava\n",
    "    - [ ] Ellie Sullivan\n",
    "\n",
    "2. Manakah dari negara-negara berikut ini yang termasuk dalam top 5 terlaris berdasarkan total masing-masing (`Total`)? Pilih semua yang berlaku.\n",
    "    - [ ] Britania Raya\n",
    "    - [ ] Jerman\n",
    "    - [ ] Portugal\n",
    "    - [ ] India\n",
    "    \n",
    "3. Berapa banyak transaksi penjualan (atau catatan, atau baris) dari 5 negara teratas?"
   ]
  },
  {
   "cell_type": "markdown",
   "metadata": {},
   "source": [
    "4. Dengan menggunakan metode `pd.pivot_table ()`, jawab dua pertanyaan berikutnya\n",
    "    - 4.1 Berapa banyak penjualan yang kami hasilkan secara total (`Total`) dari pasar Prancis pada hari Selasa?\n",
    "    - 4.2 Berapa total penjualan yang kami hasilkan (`Total`) dari semua 5 pasar teratas yang digabungkan pada hari Jumat?\n",
    "    \n",
    "\n",
    "5. Berikan `pivot_table` yang Anda buat nama. Hapus margin jika dimasukkan dalam langkah sebelumnya. Buat visualisasi dengan merantai metode `.plot ()` di tabel pivot. Setel parameter `kind` menjadi salah satu dari:\n",
    "    - `line`\n",
    "    - `bar`\n",
    "    - `hist`\n",
    "    - `box`\n",
    "    \n",
    "Jenis plot apa yang digunakan ialah ?\n",
    "    - [ ] `hist`\n",
    "    - [ ] `box`\n",
    "    - [ ] `bar`\n",
    "    - [ ] `pencar`\n",
    "    - [ ] `line`"
   ]
  },
  {
   "cell_type": "markdown",
   "metadata": {},
   "source": [
    "# ANSWER"
   ]
  },
  {
   "cell_type": "code",
   "execution_count": 1,
   "metadata": {
    "scrolled": false
   },
   "outputs": [
    {
     "data": {
      "text/html": [
       "<div>\n",
       "<style scoped>\n",
       "    .dataframe tbody tr th:only-of-type {\n",
       "        vertical-align: middle;\n",
       "    }\n",
       "\n",
       "    .dataframe tbody tr th {\n",
       "        vertical-align: top;\n",
       "    }\n",
       "\n",
       "    .dataframe thead th {\n",
       "        text-align: right;\n",
       "    }\n",
       "</style>\n",
       "<table border=\"1\" class=\"dataframe\">\n",
       "  <thead>\n",
       "    <tr style=\"text-align: right;\">\n",
       "      <th></th>\n",
       "      <th>FirstName</th>\n",
       "      <th>LastName</th>\n",
       "      <th>CustomerId</th>\n",
       "      <th>Country</th>\n",
       "      <th>InvoiceDate</th>\n",
       "      <th>Total</th>\n",
       "    </tr>\n",
       "  </thead>\n",
       "  <tbody>\n",
       "    <tr>\n",
       "      <th>0</th>\n",
       "      <td>Helena</td>\n",
       "      <td>Holý</td>\n",
       "      <td>6</td>\n",
       "      <td>Czech Republic</td>\n",
       "      <td>2013-11-13</td>\n",
       "      <td>25.86</td>\n",
       "    </tr>\n",
       "    <tr>\n",
       "      <th>1</th>\n",
       "      <td>Richard</td>\n",
       "      <td>Cunningham</td>\n",
       "      <td>26</td>\n",
       "      <td>USA</td>\n",
       "      <td>2012-08-05</td>\n",
       "      <td>23.86</td>\n",
       "    </tr>\n",
       "    <tr>\n",
       "      <th>2</th>\n",
       "      <td>Ladislav</td>\n",
       "      <td>Kovács</td>\n",
       "      <td>45</td>\n",
       "      <td>Hungary</td>\n",
       "      <td>2010-02-18</td>\n",
       "      <td>21.86</td>\n",
       "    </tr>\n",
       "    <tr>\n",
       "      <th>3</th>\n",
       "      <td>Hugh</td>\n",
       "      <td>O'Reilly</td>\n",
       "      <td>46</td>\n",
       "      <td>Ireland</td>\n",
       "      <td>2011-04-28</td>\n",
       "      <td>21.86</td>\n",
       "    </tr>\n",
       "    <tr>\n",
       "      <th>4</th>\n",
       "      <td>Astrid</td>\n",
       "      <td>Gruber</td>\n",
       "      <td>7</td>\n",
       "      <td>Austria</td>\n",
       "      <td>2010-01-18</td>\n",
       "      <td>18.86</td>\n",
       "    </tr>\n",
       "  </tbody>\n",
       "</table>\n",
       "</div>"
      ],
      "text/plain": [
       "  FirstName    LastName  CustomerId         Country InvoiceDate  Total\n",
       "0    Helena        Holý           6  Czech Republic  2013-11-13  25.86\n",
       "1   Richard  Cunningham          26             USA  2012-08-05  23.86\n",
       "2  Ladislav      Kovács          45         Hungary  2010-02-18  21.86\n",
       "3      Hugh    O'Reilly          46         Ireland  2011-04-28  21.86\n",
       "4    Astrid      Gruber           7         Austria  2010-01-18  18.86"
      ]
     },
     "execution_count": 1,
     "metadata": {},
     "output_type": "execute_result"
    }
   ],
   "source": [
    "import pandas as pd\n",
    "import sqlite3\n",
    "conn = sqlite3.connect(\"data_input/chinook.db\")\n",
    "a = pd.read_sql_query('Select \\\n",
    "    c.FirstName, c.LastName, c.CustomerId, c.Country ,i.invoiceDate, i.Total \\\n",
    "    From customers As c \\\n",
    "    Left Join invoices As i On c.CustomerId = i.CustomerId \\\n",
    "    Order By total Desc',\n",
    "conn, parse_dates=['InvoiceDate'])\n",
    "a.head()"
   ]
  },
  {
   "cell_type": "code",
   "execution_count": 2,
   "metadata": {},
   "outputs": [
    {
     "data": {
      "text/plain": [
       "(412, 6)"
      ]
     },
     "execution_count": 2,
     "metadata": {},
     "output_type": "execute_result"
    }
   ],
   "source": [
    "a.shape"
   ]
  },
  {
   "cell_type": "markdown",
   "metadata": {},
   "source": [
    "1. Manakah dari pelanggan berikut ini di antara 5 pelanggan teratas yang diberi peringkat berdasarkan total masing-masing (`Total`)? Pilih semua yang berlaku.\n",
    "    - [ ] Victor Stevens\n",
    "    - [x] Hugh O'Reilly\n",
    "    - [ ] Puja Srivastava\n",
    "    - [ ] Ellie Sullivan"
   ]
  },
  {
   "cell_type": "code",
   "execution_count": 10,
   "metadata": {
    "scrolled": false
   },
   "outputs": [
    {
     "data": {
      "text/html": [
       "<div>\n",
       "<style scoped>\n",
       "    .dataframe tbody tr th:only-of-type {\n",
       "        vertical-align: middle;\n",
       "    }\n",
       "\n",
       "    .dataframe tbody tr th {\n",
       "        vertical-align: top;\n",
       "    }\n",
       "\n",
       "    .dataframe thead th {\n",
       "        text-align: right;\n",
       "    }\n",
       "</style>\n",
       "<table border=\"1\" class=\"dataframe\">\n",
       "  <thead>\n",
       "    <tr style=\"text-align: right;\">\n",
       "      <th></th>\n",
       "      <th>InvoiceId</th>\n",
       "      <th>CustomerId</th>\n",
       "      <th>InvoiceDate</th>\n",
       "      <th>BillingAddress</th>\n",
       "      <th>BillingCity</th>\n",
       "      <th>BillingState</th>\n",
       "      <th>BillingCountry</th>\n",
       "      <th>BillingPostalCode</th>\n",
       "      <th>Total</th>\n",
       "      <th>Country</th>\n",
       "    </tr>\n",
       "  </thead>\n",
       "  <tbody>\n",
       "    <tr>\n",
       "      <th>409</th>\n",
       "      <td>410</td>\n",
       "      <td>35</td>\n",
       "      <td>2013-12-09</td>\n",
       "      <td>Rua dos Campeões Europeus de Viena, 4350</td>\n",
       "      <td>Porto</td>\n",
       "      <td>None</td>\n",
       "      <td>Portugal</td>\n",
       "      <td>None</td>\n",
       "      <td>8.91</td>\n",
       "      <td>Portugal</td>\n",
       "    </tr>\n",
       "    <tr>\n",
       "      <th>410</th>\n",
       "      <td>411</td>\n",
       "      <td>44</td>\n",
       "      <td>2013-12-14</td>\n",
       "      <td>Porthaninkatu 9</td>\n",
       "      <td>Helsinki</td>\n",
       "      <td>None</td>\n",
       "      <td>Finland</td>\n",
       "      <td>00530</td>\n",
       "      <td>13.86</td>\n",
       "      <td>Finland</td>\n",
       "    </tr>\n",
       "    <tr>\n",
       "      <th>411</th>\n",
       "      <td>412</td>\n",
       "      <td>58</td>\n",
       "      <td>2013-12-22</td>\n",
       "      <td>12,Community Centre</td>\n",
       "      <td>Delhi</td>\n",
       "      <td>None</td>\n",
       "      <td>India</td>\n",
       "      <td>110017</td>\n",
       "      <td>1.99</td>\n",
       "      <td>India</td>\n",
       "    </tr>\n",
       "  </tbody>\n",
       "</table>\n",
       "</div>"
      ],
      "text/plain": [
       "     InvoiceId  CustomerId InvoiceDate  \\\n",
       "409        410          35  2013-12-09   \n",
       "410        411          44  2013-12-14   \n",
       "411        412          58  2013-12-22   \n",
       "\n",
       "                               BillingAddress BillingCity BillingState  \\\n",
       "409  Rua dos Campeões Europeus de Viena, 4350       Porto         None   \n",
       "410                           Porthaninkatu 9    Helsinki         None   \n",
       "411                       12,Community Centre       Delhi         None   \n",
       "\n",
       "    BillingCountry BillingPostalCode  Total   Country  \n",
       "409       Portugal              None   8.91  Portugal  \n",
       "410        Finland             00530  13.86   Finland  \n",
       "411          India            110017   1.99     India  "
      ]
     },
     "execution_count": 10,
     "metadata": {},
     "output_type": "execute_result"
    }
   ],
   "source": [
    "conn = sqlite3.connect(\"data_input/chinook.db\")\n",
    "b = pd.read_sql_query('SELECT i.*, c.Country \\\n",
    "                      From invoices As i \\\n",
    "                      Left Join customers As c on c.CustomerId = i.CustomerId',conn, parse_dates='InvoiceDate')\n",
    "b.tail(3)"
   ]
  },
  {
   "cell_type": "code",
   "execution_count": 11,
   "metadata": {},
   "outputs": [
    {
     "data": {
      "text/plain": [
       "(412, 10)"
      ]
     },
     "execution_count": 11,
     "metadata": {},
     "output_type": "execute_result"
    }
   ],
   "source": [
    "b.shape"
   ]
  },
  {
   "cell_type": "markdown",
   "metadata": {},
   "source": [
    "2. Manakah dari negara-negara berikut ini yang termasuk dalam top 5 terlaris berdasarkan total masing-masing (`Total`)? Pilih semua yang berlaku.\n",
    "    - [ ] United Kingdom\n",
    "    - [x] Germany\n",
    "    - [ ] Portugal\n",
    "    - [ ] India"
   ]
  },
  {
   "cell_type": "code",
   "execution_count": 12,
   "metadata": {},
   "outputs": [
    {
     "data": {
      "text/plain": [
       "['USA', 'Canada', 'France', 'Brazil', 'Germany']"
      ]
     },
     "execution_count": 12,
     "metadata": {},
     "output_type": "execute_result"
    }
   ],
   "source": [
    "top5 = b.groupby('Country')['Total'].sum().sort_values(ascending=False).head(5).index.to_list()\n",
    "\n",
    "top5"
   ]
  },
  {
   "cell_type": "code",
   "execution_count": 13,
   "metadata": {},
   "outputs": [
    {
     "data": {
      "text/plain": [
       "(245, 10)"
      ]
     },
     "execution_count": 13,
     "metadata": {},
     "output_type": "execute_result"
    }
   ],
   "source": [
    "top5 = b[b['Country'].isin(top5)].copy()\n",
    "top5.shape"
   ]
  },
  {
   "cell_type": "code",
   "execution_count": 14,
   "metadata": {},
   "outputs": [
    {
     "data": {
      "text/plain": [
       "(245, 11)"
      ]
     },
     "execution_count": 14,
     "metadata": {},
     "output_type": "execute_result"
    }
   ],
   "source": [
    "top5['InvoiceDOW'] = top5['InvoiceDate'].dt.weekday_name\n",
    "top5['InvoiceDOW'] = pd.Categorical(top5.InvoiceDOW, categories=['Monday', 'Tuesday','Wednesday','Thursday','Friday','Saturday', 'Sunday'], ordered=True)\n",
    "top5.shape "
   ]
  },
  {
   "cell_type": "markdown",
   "metadata": {},
   "source": [
    "3. Berapa banyak transaksi penjualan (atau catatan, atau baris) dari 5 negara teratas?\n",
    "    - Jawaban: Yang tercatat sebanyak 245 dengan rows 10"
   ]
  },
  {
   "cell_type": "markdown",
   "metadata": {},
   "source": [
    "4. Dengan menggunakan metode `pd.pivot_table ()`, jawab dua pertanyaan berikutnya\n",
    "    - 4.1 Berapa banyak penjualan yang kami hasilkan secara total (`Total`) dari pasar Prancis pada hari Selasa?\n",
    "    - 4.2 Berapa total penjualan yang kami hasilkan (`Total`) dari semua 5 pasar teratas yang digabungkan pada hari Jumat?"
   ]
  },
  {
   "cell_type": "code",
   "execution_count": 16,
   "metadata": {},
   "outputs": [
    {
     "data": {
      "text/html": [
       "<div>\n",
       "<style scoped>\n",
       "    .dataframe tbody tr th:only-of-type {\n",
       "        vertical-align: middle;\n",
       "    }\n",
       "\n",
       "    .dataframe tbody tr th {\n",
       "        vertical-align: top;\n",
       "    }\n",
       "\n",
       "    .dataframe thead th {\n",
       "        text-align: right;\n",
       "    }\n",
       "</style>\n",
       "<table border=\"1\" class=\"dataframe\">\n",
       "  <thead>\n",
       "    <tr style=\"text-align: right;\">\n",
       "      <th>InvoiceDOW</th>\n",
       "      <th>Monday</th>\n",
       "      <th>Tuesday</th>\n",
       "      <th>Wednesday</th>\n",
       "      <th>Thursday</th>\n",
       "      <th>Friday</th>\n",
       "      <th>Saturday</th>\n",
       "      <th>Sunday</th>\n",
       "      <th>All</th>\n",
       "    </tr>\n",
       "    <tr>\n",
       "      <th>Country</th>\n",
       "      <th></th>\n",
       "      <th></th>\n",
       "      <th></th>\n",
       "      <th></th>\n",
       "      <th></th>\n",
       "      <th></th>\n",
       "      <th></th>\n",
       "      <th></th>\n",
       "    </tr>\n",
       "  </thead>\n",
       "  <tbody>\n",
       "    <tr>\n",
       "      <th>Brazil</th>\n",
       "      <td>19.80</td>\n",
       "      <td>1.98</td>\n",
       "      <td>26.73</td>\n",
       "      <td>45.56</td>\n",
       "      <td>16.83</td>\n",
       "      <td>63.36</td>\n",
       "      <td>15.84</td>\n",
       "      <td>190.10</td>\n",
       "    </tr>\n",
       "    <tr>\n",
       "      <th>Canada</th>\n",
       "      <td>43.56</td>\n",
       "      <td>22.78</td>\n",
       "      <td>90.09</td>\n",
       "      <td>43.58</td>\n",
       "      <td>58.41</td>\n",
       "      <td>23.76</td>\n",
       "      <td>21.78</td>\n",
       "      <td>303.96</td>\n",
       "    </tr>\n",
       "    <tr>\n",
       "      <th>France</th>\n",
       "      <td>25.75</td>\n",
       "      <td>1.98</td>\n",
       "      <td>11.88</td>\n",
       "      <td>47.52</td>\n",
       "      <td>1.98</td>\n",
       "      <td>87.15</td>\n",
       "      <td>18.84</td>\n",
       "      <td>195.10</td>\n",
       "    </tr>\n",
       "    <tr>\n",
       "      <th>Germany</th>\n",
       "      <td>64.35</td>\n",
       "      <td>9.90</td>\n",
       "      <td>24.75</td>\n",
       "      <td>3.96</td>\n",
       "      <td>8.91</td>\n",
       "      <td>38.67</td>\n",
       "      <td>5.94</td>\n",
       "      <td>156.48</td>\n",
       "    </tr>\n",
       "    <tr>\n",
       "      <th>USA</th>\n",
       "      <td>19.80</td>\n",
       "      <td>123.77</td>\n",
       "      <td>41.62</td>\n",
       "      <td>77.27</td>\n",
       "      <td>87.18</td>\n",
       "      <td>23.76</td>\n",
       "      <td>149.66</td>\n",
       "      <td>523.06</td>\n",
       "    </tr>\n",
       "    <tr>\n",
       "      <th>All</th>\n",
       "      <td>217.89</td>\n",
       "      <td>160.41</td>\n",
       "      <td>173.31</td>\n",
       "      <td>173.26</td>\n",
       "      <td>236.70</td>\n",
       "      <td>212.06</td>\n",
       "      <td>195.07</td>\n",
       "      <td>1368.70</td>\n",
       "    </tr>\n",
       "  </tbody>\n",
       "</table>\n",
       "</div>"
      ],
      "text/plain": [
       "InvoiceDOW  Monday  Tuesday  Wednesday  Thursday  Friday  Saturday  Sunday  \\\n",
       "Country                                                                      \n",
       "Brazil       19.80     1.98      26.73     45.56   16.83     63.36   15.84   \n",
       "Canada       43.56    22.78      90.09     43.58   58.41     23.76   21.78   \n",
       "France       25.75     1.98      11.88     47.52    1.98     87.15   18.84   \n",
       "Germany      64.35     9.90      24.75      3.96    8.91     38.67    5.94   \n",
       "USA          19.80   123.77      41.62     77.27   87.18     23.76  149.66   \n",
       "All         217.89   160.41     173.31    173.26  236.70    212.06  195.07   \n",
       "\n",
       "InvoiceDOW      All  \n",
       "Country              \n",
       "Brazil       190.10  \n",
       "Canada       303.96  \n",
       "France       195.10  \n",
       "Germany      156.48  \n",
       "USA          523.06  \n",
       "All         1368.70  "
      ]
     },
     "execution_count": 16,
     "metadata": {},
     "output_type": "execute_result"
    }
   ],
   "source": [
    "#b = b.loc[b[\"Country\"] == \"France\",]\n",
    "##c = pd.pivot_table(b,\n",
    "              #index='CustomerId',\n",
    "              #values='Total',\n",
    "              #aggfunc='sum')\n",
    "pd.pivot_table(\n",
    "    data=top5,\n",
    "    index='Country',\n",
    "    columns='InvoiceDOW',\n",
    "    values='Total',\n",
    "    aggfunc=sum,\n",
    "    margins=True)"
   ]
  },
  {
   "cell_type": "markdown",
   "metadata": {},
   "source": [
    "-France total sales on tuesday is 1.98"
   ]
  },
  {
   "cell_type": "markdown",
   "metadata": {},
   "source": [
    "-Total sales from top 5 country on Friday is 173.31"
   ]
  },
  {
   "cell_type": "markdown",
   "metadata": {},
   "source": [
    "5. Berikan `pivot_table` yang Anda buat nama. Hapus margin jika dimasukkan dalam langkah sebelumnya. Buat visualisasi dengan merantai metode `.plot ()` di tabel pivot. Setel parameter `kind` menjadi salah satu dari:\n",
    "    - `line`\n",
    "    - `bar`\n",
    "    - `hist`\n",
    "    - `box`\n",
    "    \n",
    "Jenis plot apa yang digunakan ialah :\n",
    "    - [x] `hist`\n",
    "    - [ ] `box`\n",
    "    - [x] `bar`\n",
    "    - [ ] `scatter`\n",
    "    - [x] `line`"
   ]
  },
  {
   "cell_type": "code",
   "execution_count": 19,
   "metadata": {},
   "outputs": [
    {
     "data": {
      "text/plain": [
       "<matplotlib.axes._subplots.AxesSubplot at 0x194ece6cef0>"
      ]
     },
     "execution_count": 19,
     "metadata": {},
     "output_type": "execute_result"
    },
    {
     "data": {
      "image/png": "[encoded data removed]",
      "text/plain": [
       "<Figure size 432x288 with 1 Axes>"
      ]
     },
     "metadata": {
      "needs_background": "light"
     },
     "output_type": "display_data"
    }
   ],
   "source": [
    "c = pd.pivot_table(\n",
    "    data=top5,\n",
    "    index='Country',\n",
    "    columns='InvoiceDOW',\n",
    "    values='Total',\n",
    "    aggfunc=sum)\n",
    "c.plot(kind='bar')"
   ]
  },
  {
   "cell_type": "code",
   "execution_count": 20,
   "metadata": {},
   "outputs": [
    {
     "data": {
      "text/plain": [
       "<matplotlib.axes._subplots.AxesSubplot at 0x194ecf7e9e8>"
      ]
     },
     "execution_count": 20,
     "metadata": {},
     "output_type": "execute_result"
    },
    {
     "data": {
      "image/png": "[encoded data removed]",
      "text/plain": [
       "<Figure size 432x288 with 1 Axes>"
      ]
     },
     "metadata": {
      "needs_background": "light"
     },
     "output_type": "display_data"
    }
   ],
   "source": [
    "c.plot(kind='line')"
   ]
  },
  {
   "cell_type": "code",
   "execution_count": 21,
   "metadata": {},
   "outputs": [
    {
     "data": {
      "text/plain": [
       "<matplotlib.axes._subplots.AxesSubplot at 0x194ee788470>"
      ]
     },
     "execution_count": 21,
     "metadata": {},
     "output_type": "execute_result"
    },
    {
     "data": {
      "image/png": "[encoded data removed]",
      "text/plain": [
       "<Figure size 432x288 with 1 Axes>"
      ]
     },
     "metadata": {
      "needs_background": "light"
     },
     "output_type": "display_data"
    }
   ],
   "source": [
    "c.plot(kind='hist')"
   ]
  },
  {
   "cell_type": "code",
   "execution_count": null,
   "metadata": {},
   "outputs": [],
   "source": []
  }
 ],
 "metadata": {
  "kernelspec": {
   "display_name": "Python 3",
   "language": "python",
   "name": "python3"
  },
  "language_info": {
   "codemirror_mode": {
    "name": "ipython",
    "version": 3
   },
   "file_extension": ".py",
   "mimetype": "text/x-python",
   "name": "python",
   "nbconvert_exporter": "python",
   "pygments_lexer": "ipython3",
   "version": "3.7.3"
  }
 },
 "nbformat": 4,
 "nbformat_minor": 2
}
